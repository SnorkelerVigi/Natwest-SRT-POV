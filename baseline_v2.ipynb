{
 "cells": [
  {
   "cell_type": "code",
   "execution_count": 2,
   "metadata": {},
   "outputs": [],
   "source": [
    "import pandas as pd\n",
    "import os\n",
    "from google import genai\n",
    "import datetime\n",
    "import time\n",
    "from google.genai import types\n",
    "from dotenv import load_dotenv\n",
    "load_dotenv()\n",
    "from response_types import *\n",
    "\n",
    "GEMINI_API_KEY = os.getenv('GEMINI_API_KEY')\n",
    "client = genai.Client(api_key=GEMINI_API_KEY)"
   ]
  },
  {
   "cell_type": "code",
   "execution_count": 3,
   "metadata": {},
   "outputs": [],
   "source": [
    "model_name = \"gemini-1.5-flash-002\""
   ]
  },
  {
   "cell_type": "code",
   "execution_count": 10,
   "metadata": {},
   "outputs": [],
   "source": [
    "SYSTEM_PROMPT = \"\"\"\n",
    "You are to review a provided facility agreement in context to determine how the agreement affects the inclusion of assets in Significant Risk Transfers (SRTs).\n",
    "Your purpose is to identify provisions regarding confidentiality, transferability, consents, confidentiality undertakings, approved lender lists, and any conditions that must be satisfied for including the asset in an SRT.\n",
    "Your final output must be sufficiently clear, detailed, and legally accurate so that a legal team can rely on it directly.\n",
    "\n",
    "In cases where the options for you to respond with are explicitly provided in the user prompt, you are required to respond with the most appropriate option and nothing else in your response.\n",
    "\n",
    "Here is the full text of the facility agreement:\n",
    "\"\"\""
   ]
  },
  {
   "cell_type": "code",
   "execution_count": 5,
   "metadata": {},
   "outputs": [
    {
     "data": {
      "text/html": [
       "<div>\n",
       "<style scoped>\n",
       "    .dataframe tbody tr th:only-of-type {\n",
       "        vertical-align: middle;\n",
       "    }\n",
       "\n",
       "    .dataframe tbody tr th {\n",
       "        vertical-align: top;\n",
       "    }\n",
       "\n",
       "    .dataframe thead th {\n",
       "        text-align: right;\n",
       "    }\n",
       "</style>\n",
       "<table border=\"1\" class=\"dataframe\">\n",
       "  <thead>\n",
       "    <tr style=\"text-align: right;\">\n",
       "      <th></th>\n",
       "      <th>Question ID</th>\n",
       "      <th>Question Category</th>\n",
       "      <th>Question Text</th>\n",
       "      <th>Parent Question ID</th>\n",
       "      <th>Parent Answer Trigger</th>\n",
       "      <th>Answer Type</th>\n",
       "      <th>Options</th>\n",
       "      <th>Is Multi-select</th>\n",
       "      <th>Some GT Available</th>\n",
       "      <th>Questions to Legal Team</th>\n",
       "    </tr>\n",
       "  </thead>\n",
       "  <tbody>\n",
       "    <tr>\n",
       "      <th>0</th>\n",
       "      <td>1</td>\n",
       "      <td>Agreement Details</td>\n",
       "      <td>Governing law</td>\n",
       "      <td>NaN</td>\n",
       "      <td>NaN</td>\n",
       "      <td>NaN</td>\n",
       "      <td>Not Specified|England and Wales|Scotland|North...</td>\n",
       "      <td>No</td>\n",
       "      <td>Yes</td>\n",
       "      <td>NaN</td>\n",
       "    </tr>\n",
       "    <tr>\n",
       "      <th>1</th>\n",
       "      <td>2</td>\n",
       "      <td>Agreement Details</td>\n",
       "      <td>Please detail the clause number of the governi...</td>\n",
       "      <td>NaN</td>\n",
       "      <td>NaN</td>\n",
       "      <td>Free Text</td>\n",
       "      <td>NaN</td>\n",
       "      <td>No</td>\n",
       "      <td>Yes</td>\n",
       "      <td>NaN</td>\n",
       "    </tr>\n",
       "  </tbody>\n",
       "</table>\n",
       "</div>"
      ],
      "text/plain": [
       "   Question ID  Question Category  \\\n",
       "0            1  Agreement Details   \n",
       "1            2  Agreement Details   \n",
       "\n",
       "                                       Question Text  Parent Question ID  \\\n",
       "0                                      Governing law                 NaN   \n",
       "1  Please detail the clause number of the governi...                 NaN   \n",
       "\n",
       "  Parent Answer Trigger Answer Type  \\\n",
       "0                   NaN         NaN   \n",
       "1                   NaN   Free Text   \n",
       "\n",
       "                                             Options Is Multi-select  \\\n",
       "0  Not Specified|England and Wales|Scotland|North...              No   \n",
       "1                                                NaN              No   \n",
       "\n",
       "  Some GT Available Questions to Legal Team  \n",
       "0               Yes                     NaN  \n",
       "1               Yes                     NaN  "
      ]
     },
     "execution_count": 5,
     "metadata": {},
     "output_type": "execute_result"
    }
   ],
   "source": [
    "questionnaire = pd.read_csv('/Users/vigneshramesh/Desktop/Deals/Natwest/question_tree.csv')\n",
    "questionnaire.head(2)"
   ]
  },
  {
   "cell_type": "code",
   "execution_count": 8,
   "metadata": {},
   "outputs": [],
   "source": [
    "import PyPDF2\n",
    "\n",
    "with open('/Users/vigneshramesh/Desktop/Deals/Natwest/SRT Checklist Groundtruths/Redacted_Facility_Agreement_12.pdf', 'rb') as f:\n",
    "    pdf = PyPDF2.PdfReader(f)\n",
    "    num_pages = len(pdf.pages)\n",
    "    text = ''\n",
    "    for page in range(num_pages):\n",
    "        text += pdf.pages[page].extract_text()"
   ]
  },
  {
   "cell_type": "code",
   "execution_count": 11,
   "metadata": {},
   "outputs": [],
   "source": [
    "contents = []\n",
    "\n",
    "contents.append({\n",
    "    \"role\": \"system\",\n",
    "    \"parts\": [\n",
    "        {\n",
    "            \"text\": SYSTEM_PROMPT + \"\\n\\n\" + text\n",
    "        }\n",
    "    ]\n",
    "})"
   ]
  },
  {
   "cell_type": "code",
   "execution_count": null,
   "metadata": {},
   "outputs": [],
   "source": [
    "\n",
    "for category, group_df in questionnaire.groupby('Question Category'):\n",
    "    print(f\"Processing category: {category}\")\n",
    "    \n",
    "    for _, row in group_df.iterrows():\n",
    "        # Create base content object for each question\n",
    "        content = {\n",
    "            \"role\": \"user\",\n",
    "            \"parts\": [\n",
    "                {\n",
    "                    \"text\": row['Question Text']\n",
    "                }\n",
    "            ]\n",
    "        }\n",
    "        \n",
    "        # Check if question has a parent\n",
    "        if pd.notna(row['Parent Question ID']):\n",
    "            parent_id = int(row['Parent Question ID'])\n",
    "            parent_trigger = row['Parent Answer Trigger']\n",
    "            \n",
    "            # Get parent question's response\n",
    "            \n",
    "                \n",
    "        # Get response for current question\n",
    "        response_schema = # Get the correct response schema based on the question from response_types.py\n",
    "        response = client.models.generate_content(\n",
    "            model=model_name,\n",
    "            contents=contents,\n",
    "            config=types.GenerateContentConfig(\n",
    "                response_mime_type=\"application/json\",\n",
    "                response_schema=response_schema,\n",
    "            ),\n",
    "        )\n",
    "        response_text = response.text\n",
    "        df.at[index, 'Response'] = eval(response_text)\n",
    "        \n",
    "        # Add response as next content object\n",
    "        contents.append(\n",
    "            {\n",
    "            \"role\": \"assistant\",\n",
    "            \"parts\": [{\"text\": response.text}]\n",
    "        }\n",
    "        )"
   ]
  },
  {
   "cell_type": "code",
   "execution_count": 5,
   "metadata": {},
   "outputs": [],
   "source": [
    "file_path = '/Users/vigneshramesh/Desktop/Deals/Natwest/SRT Checklist Groundtruths/Redacted_Facility_Agreement_12.pdf'\n",
    "agreement_12 = client.files.upload(file=file_path, config=dict(mime_type='application/pdf'))"
   ]
  },
  {
   "cell_type": "markdown",
   "metadata": {},
   "source": [
    "#Models offering cachine\n",
    "1. gemini-1.5-pro-001\n",
    "2. gemini-1.5-pro-002\n",
    "3. gemini-1.5-flash-001\n",
    "4. gemini-1.5-flash-002\n",
    "5. gemini-1.5-flash-8b\n",
    "6. gemini-1.5-flash-8b-001\n",
    "7. gemini-1.5-flash-8b-latest"
   ]
  },
  {
   "cell_type": "code",
   "execution_count": 43,
   "metadata": {},
   "outputs": [],
   "source": [
    "# Create a cached content object\n",
    "cache = client.caches.create(\n",
    "    model=model_name,\n",
    "    config=types.CreateCachedContentConfig(\n",
    "      system_instruction=SYSTEM_PROMPT,\n",
    "      contents=[agreement_12]\n",
    "    )\n",
    ")"
   ]
  },
  {
   "cell_type": "code",
   "execution_count": 44,
   "metadata": {},
   "outputs": [
    {
     "data": {
      "text/plain": [
       "('cachedContents/6jxi33kv6bro',\n",
       " CachedContentUsageMetadata(audio_duration_seconds=None, image_count=None, text_count=None, total_token_count=29543, video_duration_seconds=None))"
      ]
     },
     "execution_count": 44,
     "metadata": {},
     "output_type": "execute_result"
    }
   ],
   "source": [
    "cache.name, cache.usage_metadata"
   ]
  },
  {
   "cell_type": "code",
   "execution_count": 45,
   "metadata": {},
   "outputs": [],
   "source": [
    "contents = [\n",
    "    {\n",
    "    \"role\": \"user\",\n",
    "    \"parts\": [\n",
    "        {\n",
    "            \"text\": \"Is sub-participation defined?\"\n",
    "        }\n",
    "    ],\n",
    "\n",
    "    \"role\": \"assistant\",\n",
    "    \"parts\": [\n",
    "        {\n",
    "            \"text\": \"\"\"'{\\n  \"response\": \"Yes\",\\n  \"rationale\": \"Clause 23.2(b) defines \\\\\"sub-participation\\\\\" to include any sub-participation, trust, or other contractual arrangement, assignment, or disposal entered into with any person or entity in respect of a Lender\\'s rights and obligations under this Agreement (or any other transaction relating to the risks and returns of a Lender under this Agreement).\"\\n}'\"\"\"\n",
    "        }\n",
    "    ],\n",
    "\n",
    "    \"role\": \"user\",\n",
    "    \"parts\": [\n",
    "        {\n",
    "            \"text\": \"Does the definition of sub-participation capture SRT?\"\n",
    "        }\n",
    "    ],\n",
    "    }\n",
    "]\n"
   ]
  },
  {
   "cell_type": "code",
   "execution_count": 46,
   "metadata": {},
   "outputs": [],
   "source": [
    "from google.genai.types import GenerateContentConfig\n",
    "\n",
    "response = client.models.generate_content(\n",
    "    model=model_name,\n",
    "    contents='Does the definition of sub-participation capture SRT?',\n",
    "    config=GenerateContentConfig(\n",
    "        cached_content=cache.name,\n",
    "        response_mime_type=\"application/json\",\n",
    "        response_schema=Agreement,\n",
    "    ),\n",
    ")"
   ]
  },
  {
   "cell_type": "code",
   "execution_count": 47,
   "metadata": {},
   "outputs": [
    {
     "data": {
      "text/plain": [
       "'{\\n  \"response\": \"Yes\",\\n  \"rationale\": \"The contract defines sub-participation broadly to include any sub-participation, trust or other contractual arrangement, assignment or disposal entered into with any person or entity in respect of a Lender\\'s rights and obligations under this Agreement (or any other transaction relating to the risks and returns of a Lender under this Agreement).\"\\n}'"
      ]
     },
     "execution_count": 47,
     "metadata": {},
     "output_type": "execute_result"
    }
   ],
   "source": [
    "response.candidates[0].content.parts[0].text"
   ]
  },
  {
   "cell_type": "code",
   "execution_count": 25,
   "metadata": {},
   "outputs": [
    {
     "data": {
      "text/plain": [
       "{'response': 'Yes',\n",
       " 'rationale': 'Clause 23.2(b) defines \"sub-participation\" to include any sub-participation, trust, or other contractual arrangement, assignment, or disposal entered into with any person or entity in respect of a Lender\\'s rights and obligations under this Agreement (or any other transaction relating to the risks and returns of a Lender under this Agreement).'}"
      ]
     },
     "execution_count": 25,
     "metadata": {},
     "output_type": "execute_result"
    }
   ],
   "source": [
    "eval(response.text)"
   ]
  },
  {
   "cell_type": "code",
   "execution_count": 30,
   "metadata": {},
   "outputs": [
    {
     "name": "stdout",
     "output_type": "stream",
     "text": [
      "   files/sm2zudq3crut\n"
     ]
    }
   ],
   "source": [
    "for f in client.files.list():\n",
    "    print(\"  \", f.name)"
   ]
  },
  {
   "cell_type": "code",
   "execution_count": 29,
   "metadata": {},
   "outputs": [
    {
     "data": {
      "text/plain": [
       "DeleteFileResponse()"
      ]
     },
     "execution_count": 29,
     "metadata": {},
     "output_type": "execute_result"
    }
   ],
   "source": [
    "client.files.delete(name='vfthbv1lgdyy')"
   ]
  },
  {
   "cell_type": "markdown",
   "metadata": {},
   "source": [
    "# SDK Methods"
   ]
  },
  {
   "cell_type": "code",
   "execution_count": null,
   "metadata": {},
   "outputs": [],
   "source": [
    "response = client.models.generate_content(\n",
    "    model=\"gemini-2.0-flash\",\n",
    "    contents=\"Explain how AI works\",\n",
    ")\n",
    "\n",
    "print(response.text)"
   ]
  },
  {
   "cell_type": "code",
   "execution_count": null,
   "metadata": {},
   "outputs": [],
   "source": [
    "from google import genai\n",
    "from google.genai import types\n",
    "import pathlib\n",
    "import httpx\n",
    "\n",
    "client = genai.Client()\n",
    "\n",
    "long_context_pdf_path = \"https://www.nasa.gov/wp-content/uploads/static/history/alsj/a17/A17_FlightPlan.pdf\" # Replace with the actual URL of your large PDF\n",
    "\n",
    "# Retrieve the PDF\n",
    "file_path = pathlib.Path('A17.pdf')\n",
    "file_path.write_bytes(httpx.get(long_context_pdf_path).content)\n",
    "\n",
    "# Upload the PDF using the File API\n",
    "sample_file = client.files.upload(\n",
    "  file=file_path,\n",
    ")\n",
    "\n",
    "prompt=\"Summarize this document\"\n",
    "\n",
    "response = client.models.generate_content(\n",
    "  model=\"gemini-1.5-flash\",\n",
    "  contents=[sample_file, \"Summarize this document\"])\n",
    "print(response.text)"
   ]
  },
  {
   "cell_type": "code",
   "execution_count": 9,
   "metadata": {},
   "outputs": [
    {
     "name": "stdout",
     "output_type": "stream",
     "text": [
      "Okay! That's great. Do you have any questions about having two dogs, or is there anything else I can help you with regarding your canine companions?\n",
      "\n",
      "If you have two dogs and yourself, that means there are 8 dog paws (2 dogs x 4 paws each) and 2 human feet. Since paws are only on the dogs, there are **8 paws** in your house.\n",
      "\n",
      "role - user: I have 2 dogs in my house.\n",
      "role - model: Okay! That's great. Do you have any questions about having two dogs, or is there anything else I can help you with regarding your canine companions?\n",
      "\n",
      "role - user: How many paws are in my house?\n",
      "role - model: If you have two dogs and yourself, that means there are 8 dog paws (2 dogs x 4 paws each) and 2 human feet. Since paws are only on the dogs, there are **8 paws** in your house.\n",
      "\n"
     ]
    }
   ],
   "source": [
    "from google import genai\n",
    "\n",
    "chat = client.chats.create(model=\"gemini-2.0-flash\")\n",
    "\n",
    "response = chat.send_message(\"I have 2 dogs in my house.\")\n",
    "print(response.text)\n",
    "\n",
    "response = chat.send_message(\"How many paws are in my house?\")\n",
    "print(response.text)\n",
    "\n",
    "for message in chat.get_history():\n",
    "    print(f'role - {message.role}',end=\": \")\n",
    "    print(message.parts[0].text)"
   ]
  },
  {
   "cell_type": "code",
   "execution_count": 14,
   "metadata": {},
   "outputs": [
    {
     "name": "stdout",
     "output_type": "stream",
     "text": [
      "Okay, let's break down Occam's Razor.\n",
      "\n",
      "**The Concept of Occam's Razor**\n",
      "\n",
      "Occam's Razor is a **problem-solving principle** or **heuristic** (a mental shortcut or guideline). It's not a strict law, but a suggestion for how to approach competing explanations for the same phenomenon.\n",
      "\n",
      "In simple terms, it states:\n",
      "\n",
      "**\"When presented with competing hypotheses (explanations) for the same prediction, one should select the solution with the fewest assumptions.\"**\n",
      "\n",
      "Often, this is paraphrased as:\n",
      "\n",
      "**\"The simplest explanation is usually the best one.\"**\n",
      "\n",
      "Here's what that really means:\n",
      "\n",
      "1.  **Competing Explanations:** It applies when you have *multiple possible ways* to explain something you observe.\n",
      "2.  **Same Outcome:** All the explanations must actually account for the observed facts. If an explanation doesn't fit the facts, it's simply wrong, and Occam's Razor doesn't apply.\n",
      "3.  **Fewest Assumptions:** The \"simplest\" explanation is the one that requires introducing the fewest new assumptions, variables, or entities. It relies more on things we already know or can easily verify. It's more \"parsimonious\" (economical) in its structure.\n",
      "4.  **Not Proof:** Occam's Razor doesn't *prove* the simpler explanation is true. Sometimes complex explanations are correct. However, it suggests that the simpler explanation is more *probable* and should be the preferred starting point for investigation, unless evidence points towards greater complexity.\n",
      "\n",
      "**Why is it useful?** It helps us avoid unnecessarily complicated or fantastical theories when a straightforward explanation works perfectly well. It guides scientific inquiry and everyday reasoning towards more testable and probable hypotheses.\n",
      "\n",
      "**Simple, Everyday Example**\n",
      "\n",
      "Let's say you come home and find your favorite cookie jar, which was full this morning, is now empty.\n",
      "\n",
      "*   **Observation:** The cookie jar is empty.\n",
      "\n",
      "Now, consider two possible explanations:\n",
      "\n",
      "1.  **Explanation A (Simple):** Your roommate (who you know loves cookies) ate them while you were out.\n",
      "    *   *Assumptions:* Your roommate was home, likes cookies, and sometimes eats them. (These are pretty reasonable assumptions based on prior knowledge).\n",
      "\n",
      "2.  **Explanation B (Complex):** A team of highly trained cookie ninjas rappelled down from the roof, bypassed your security system (which you don't actually have), silently entered your kitchen, specifically targeted *your* cookie jar, emptied it without leaving a trace, and vanished back up the rope.\n",
      "    *   *Assumptions:* Cookie ninjas exist, they have advanced skills, they targeted your house specifically, they wanted *those* cookies, they could bypass non-existent security, they left no evidence, etc. (This requires inventing many new, unlikely entities and circumstances).\n",
      "\n",
      "**Applying Occam's Razor:**\n",
      "\n",
      "Occam's Razor tells us to prefer **Explanation A**. Why? Because it relies on far fewer, and much more common and plausible, assumptions than Explanation B. While it's *technically possible* the cookie ninjas did it, it's vastly more probable that your roommate ate the cookies. Explanation A is the simpler, more parsimonious explanation that fits the facts. You'd logically suspect your roommate first, before considering elaborate ninja scenarios.\n"
     ]
    }
   ],
   "source": [
    "from google import genai\n",
    "\n",
    "prompt = \"Explain the concept of Occam's Razor and provide a simple, everyday example.\"\n",
    "response = client.models.generate_content(\n",
    "    model=\"gemini-2.5-pro-exp-03-25\",  # or gemini-2.0-flash-thinking-exp\n",
    "    contents=prompt\n",
    ")\n",
    "\n",
    "print(response.text)"
   ]
  },
  {
   "cell_type": "code",
   "execution_count": null,
   "metadata": {},
   "outputs": [],
   "source": []
  }
 ],
 "metadata": {
  "kernelspec": {
   "display_name": "natwest",
   "language": "python",
   "name": "python3"
  },
  "language_info": {
   "codemirror_mode": {
    "name": "ipython",
    "version": 3
   },
   "file_extension": ".py",
   "mimetype": "text/x-python",
   "name": "python",
   "nbconvert_exporter": "python",
   "pygments_lexer": "ipython3",
   "version": "3.13.1"
  }
 },
 "nbformat": 4,
 "nbformat_minor": 2
}
